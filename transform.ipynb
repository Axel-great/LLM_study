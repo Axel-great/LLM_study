{
 "cells": [
  {
   "cell_type": "code",
   "execution_count": 9,
   "metadata": {},
   "outputs": [],
   "source": [
    "import torch\n",
    "from torch import nn\n",
    "import math\n",
    "from torch import functional as F"
   ]
  },
  {
   "cell_type": "code",
   "execution_count": null,
   "metadata": {},
   "outputs": [],
   "source": []
  },
  {
   "cell_type": "code",
   "execution_count": null,
   "metadata": {},
   "outputs": [],
   "source": []
  },
  {
   "cell_type": "code",
   "execution_count": 14,
   "metadata": {},
   "outputs": [
    {
     "data": {
      "text/plain": [
       "tensor([[[-0.1647, -0.5922,  0.2470, -0.0232],\n",
       "         [-0.1650, -0.5883,  0.2439, -0.0200],\n",
       "         [-0.1641, -0.5926,  0.2476, -0.0244]],\n",
       "\n",
       "        [[-0.2515, -0.7480,  0.2592, -0.1423],\n",
       "         [-0.2503, -0.7461,  0.2571, -0.1425],\n",
       "         [-0.2504, -0.7468,  0.2562, -0.1411]]], grad_fn=<UnsafeViewBackward0>)"
      ]
     },
     "execution_count": 14,
     "metadata": {},
     "output_type": "execute_result"
    }
   ],
   "source": [
    "class selfAttention(nn.Module):\n",
    "    def __init__(self, hidden_dim:int = 728)->None:\n",
    "        super().__init__()\n",
    "        self.hidden_dim = hidden_dim\n",
    "    #初始化qkv\n",
    "        self.query_proj = nn.Linear(hidden_dim,hidden_dim)\n",
    "        self.key_proj = nn.Linear(hidden_dim,hidden_dim)\n",
    "        self.value_proj = nn.Linear(hidden_dim,hidden_dim)\n",
    "    \n",
    "    def forward(self,X):\n",
    "        # Q : (batch_size,seq_len,dim)\n",
    "        # K*T:(batch_size,dim,seq_len)\n",
    "        Q = self.query_proj(X)\n",
    "        K = self.key_proj(X)\n",
    "        V = self.value_proj(X)\n",
    "\n",
    "        attention_value = torch.matmul(\n",
    "            #给k转置\n",
    "            Q,K.transpose(-1,-2)\n",
    "        )\n",
    "\n",
    "        attention_softmax = torch.softmax(\n",
    "            attention_value / math.sqrt(self.hidden_dim),dim=-1\n",
    "        )\n",
    "\n",
    "        result = torch.matmul(\n",
    "            attention_softmax,V\n",
    "        )\n",
    "        return result\n",
    "\n",
    "X = torch.rand(2,3,4)\n",
    "X\n",
    "\n",
    "self_att_test = selfAttention(4)\n",
    "self_att_test(X)\n"
   ]
  }
 ],
 "metadata": {
  "kernelspec": {
   "display_name": "pytorch",
   "language": "python",
   "name": "python3"
  },
  "language_info": {
   "codemirror_mode": {
    "name": "ipython",
    "version": 3
   },
   "file_extension": ".py",
   "mimetype": "text/x-python",
   "name": "python",
   "nbconvert_exporter": "python",
   "pygments_lexer": "ipython3",
   "version": "3.8.20"
  }
 },
 "nbformat": 4,
 "nbformat_minor": 2
}
