{
 "cells": [
  {
   "cell_type": "code",
   "execution_count": 3,
   "metadata": {},
   "outputs": [],
   "source": [
    "import torch\n",
    "from torch import nn\n",
    "import torch.nn.functional as F\n",
    "from torch.utils.data import Dataset\n",
    "from torch.utils.data import DataLoader\n",
    "from dataclasses import dataclass\n"
   ]
  },
  {
   "cell_type": "code",
   "execution_count": null,
   "metadata": {},
   "outputs": [
    {
     "name": "stdout",
     "output_type": "stream",
     "text": [
      "torch.Size([4, 2])\n",
      "tensor([[0, 1, 4, 3],\n",
      "        [5, 4, 0, 0]])\n"
     ]
    },
    {
     "data": {
      "text/plain": [
       "(tensor([0, 0, 0, 1, 1]), tensor([1, 2, 3, 0, 1]))"
      ]
     },
     "execution_count": 16,
     "metadata": {},
     "output_type": "execute_result"
    }
   ],
   "source": [
    "test = torch.tensor([[0,1],\n",
    "                    [4,3],\n",
    "                    [5,4],\n",
    "                    [0,0]])\n",
    "print(test.shape)\n",
    "test = test.reshape(2,-1)\n",
    "print(test)\n",
    "idx,topx = torch.where(test)\n",
    "idx,topx\n",
    "\n",
    "hot = torch.tensor([[1,0],[0,0]])"
   ]
  },
  {
   "cell_type": "code",
   "execution_count": null,
   "metadata": {},
   "outputs": [
    {
     "name": "stdout",
     "output_type": "stream",
     "text": [
      "router_weights:\n",
      " tensor([[0.4000, 0.3000],\n",
      "        [0.5000, 0.2000]])\n",
      "selected_experts:\n",
      " tensor([[1, 2],\n",
      "        [2, 0]])\n",
      "torch.Size([2, 4]) torch.Size([2, 2])\n",
      "未反转的矩阵:# shape(batch * seq,topx,expert_num)\n",
      " tensor([[[0, 1, 0, 0],\n",
      "         [0, 0, 1, 0]],\n",
      "\n",
      "        [[0, 0, 1, 0],\n",
      "         [1, 0, 0, 0]]])\n",
      "原始反转矩阵:# shape(expert_num,topx,batch * seq)\n",
      " tensor([[[0, 0],\n",
      "         [0, 1]],\n",
      "\n",
      "        [[1, 0],\n",
      "         [0, 0]],\n",
      "\n",
      "        [[0, 1],\n",
      "         [1, 0]],\n",
      "\n",
      "        [[0, 0],\n",
      "         [0, 0]]])\n",
      "第二个专家的矩阵:(topx,batch * seq)\n",
      " tensor([[1, 0],\n",
      "        [0, 0]])\n",
      "tensor([0]) tensor([0])\n"
     ]
    }
   ],
   "source": [
    "import torch\n",
    "\n",
    "routing_probs = torch.tensor([\n",
    "    [0.1, 0.4, 0.3, 0.2],  # 第一个 token 的 4 个专家概率\n",
    "    [0.2, 0.1, 0.5, 0.2],  # 第二个 token 的 4 个专家概率\n",
    "])  # shape = (2, 4), 假设 batch_size * seq_len = 2, expert_number = 4\n",
    "# (4,2)\n",
    "top_k = 2\n",
    "\n",
    "router_weights, selected_experts = torch.topk(routing_probs, top_k, dim=-1)\n",
    "\n",
    "print(\"router_weights:\\n\", router_weights)\n",
    "print(\"selected_experts:\\n\", selected_experts)\n",
    "print(routing_probs.shape,selected_experts.shape)\n",
    "\n",
    "mask = F.one_hot(selected_experts,4)\n",
    "\n",
    "print(\"未反转的矩阵:# shape(batch * seq,topx,expert_num)\\n\",mask)\n",
    "mask = mask.permute(2,1,0)\n",
    "\n",
    "print(\"原始反转矩阵:# shape(expert_num,topx,batch * seq)\\n\",mask)\n",
    "choose = mask[1]\n",
    "print(\"第二个专家的矩阵:(topx,batch * seq)\\n\",choose)\n",
    "idx, topx = torch.where(choose)\n",
    "print(idx,topx)\n",
    "#(2,2)"
   ]
  },
  {
   "cell_type": "code",
   "execution_count": 46,
   "metadata": {},
   "outputs": [
    {
     "data": {
      "text/plain": [
       "(torch.Size([1]), torch.Size([3]))"
      ]
     },
     "execution_count": 46,
     "metadata": {},
     "output_type": "execute_result"
    }
   ],
   "source": [
    "test = torch.tensor([1,2,3])\n",
    "b = torch.tensor([2])\n",
    "a = b*test\n",
    "b.shape,test.shape,"
   ]
  },
  {
   "cell_type": "code",
   "execution_count": null,
   "metadata": {},
   "outputs": [],
   "source": []
  }
 ],
 "metadata": {
  "kernelspec": {
   "display_name": "pytorch",
   "language": "python",
   "name": "python3"
  },
  "language_info": {
   "codemirror_mode": {
    "name": "ipython",
    "version": 3
   },
   "file_extension": ".py",
   "mimetype": "text/x-python",
   "name": "python",
   "nbconvert_exporter": "python",
   "pygments_lexer": "ipython3",
   "version": "3.8.20"
  }
 },
 "nbformat": 4,
 "nbformat_minor": 2
}
